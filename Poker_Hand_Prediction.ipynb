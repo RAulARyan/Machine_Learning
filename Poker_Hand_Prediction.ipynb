{
 "cells": [
  {
   "cell_type": "markdown",
   "metadata": {
    "colab": {},
    "colab_type": "code",
    "id": "-IbYAKBfutUA"
   },
   "source": [
    "### Standard package import"
   ]
  },
  {
   "cell_type": "code",
   "execution_count": 1,
   "metadata": {},
   "outputs": [],
   "source": [
    "import pandas as pd \n",
    "import numpy as np\n",
    "import matplotlib.pyplot as plt\n",
    "import warnings\n",
    "warnings.filterwarnings('ignore') # to ignore any warnings"
   ]
  },
  {
   "cell_type": "markdown",
   "metadata": {},
   "source": [
    "### Data Pre-processing\n",
    "\n",
    "The data files we found on the source page already had this data splitted into training and test data. Hence, we did not need to split the data with any Sci-kit methods."
   ]
  },
  {
   "cell_type": "code",
   "execution_count": 2,
   "metadata": {
    "colab": {
     "base_uri": "https://localhost:8080/",
     "height": 219
    },
    "colab_type": "code",
    "id": "DEbUY8sLwjmh",
    "outputId": "735efe15-b21a-406b-af38-a80dff8a2a83"
   },
   "outputs": [
    {
     "data": {
      "text/plain": [
       "['Suit of card #1',\n",
       " 'Rank of card #1',\n",
       " 'Suit of card #2',\n",
       " 'Rank of card #2',\n",
       " 'Suit of card #3',\n",
       " 'Rank of card #3',\n",
       " 'Suit of card #4',\n",
       " 'Rank of card #4',\n",
       " 'Suit of card #5',\n",
       " 'Rank of card 5',\n",
       " 'Poker Hand']"
      ]
     },
     "execution_count": 2,
     "metadata": {},
     "output_type": "execute_result"
    }
   ],
   "source": [
    "#importing the data as Pandas Dataframes.\n",
    "data_train=pd.read_csv(\"poker-hand-training-true.data\",header=None) #importing training data into dataframe\n",
    "data_test = pd.read_csv(\"poker-hand-testing.data\",header=None)      #importing test data into dataframe\n",
    "\n",
    "#defining the columns in the data\n",
    "col=['Suit of card #1','Rank of card #1','Suit of card #2','Rank of card #2','Suit of card #3','Rank of card #3','Suit of card #4','Rank of card #4','Suit of card #5','Rank of card 5','Poker Hand']\n",
    "col"
   ]
  },
  {
   "cell_type": "code",
   "execution_count": 3,
   "metadata": {
    "colab": {},
    "colab_type": "code",
    "id": "iBfTMdL4wyzU"
   },
   "outputs": [],
   "source": [
    "data_train.columns=col\n",
    "data_test.columns=col"
   ]
  },
  {
   "cell_type": "code",
   "execution_count": 4,
   "metadata": {
    "colab": {},
    "colab_type": "code",
    "id": "f04jsT2cw2eX"
   },
   "outputs": [],
   "source": [
    "#manually splitting the dataset into training and testing data.\n",
    "\n",
    "y_train=data_train['Poker Hand']\n",
    "y_test=data_test['Poker Hand']\n",
    "y_train=pd.get_dummies(y_train) # to convert series to dummy codes.\n",
    "y_test=pd.get_dummies(y_test)   # to convert series to dummy codes. \n",
    "x_train=data_train.drop('Poker Hand',axis=1)\n",
    "x_test=data_test.drop('Poker Hand',axis=1)"
   ]
  },
  {
   "cell_type": "code",
   "execution_count": 5,
   "metadata": {
    "colab": {
     "base_uri": "https://localhost:8080/",
     "height": 54
    },
    "colab_type": "code",
    "id": "4Y2bS-v8AQj2",
    "outputId": "a30a840c-9408-4bde-9b69-2d951b4a0068"
   },
   "outputs": [
    {
     "name": "stdout",
     "output_type": "stream",
     "text": [
      "Shape of Training Set: (25010, 10)\n",
      "Shape of Testing Set: (1000000, 10)\n"
     ]
    }
   ],
   "source": [
    "#Checking the shape of the Training and Testing set of data.\n",
    "\n",
    "print('Shape of Training Set:',x_train.shape)\n",
    "print('Shape of Testing Set:',x_test.shape)"
   ]
  },
  {
   "cell_type": "code",
   "execution_count": 6,
   "metadata": {
    "colab": {
     "base_uri": "https://localhost:8080/",
     "height": 224
    },
    "colab_type": "code",
    "id": "f--8X1SABFwE",
    "outputId": "401cfe75-c95c-4a40-9c91-16f053d9be29"
   },
   "outputs": [
    {
     "data": {
      "text/html": [
       "<div>\n",
       "<style scoped>\n",
       "    .dataframe tbody tr th:only-of-type {\n",
       "        vertical-align: middle;\n",
       "    }\n",
       "\n",
       "    .dataframe tbody tr th {\n",
       "        vertical-align: top;\n",
       "    }\n",
       "\n",
       "    .dataframe thead th {\n",
       "        text-align: right;\n",
       "    }\n",
       "</style>\n",
       "<table border=\"1\" class=\"dataframe\">\n",
       "  <thead>\n",
       "    <tr style=\"text-align: right;\">\n",
       "      <th></th>\n",
       "      <th>Suit of card #1</th>\n",
       "      <th>Rank of card #1</th>\n",
       "      <th>Suit of card #2</th>\n",
       "      <th>Rank of card #2</th>\n",
       "      <th>Suit of card #3</th>\n",
       "      <th>Rank of card #3</th>\n",
       "      <th>Suit of card #4</th>\n",
       "      <th>Rank of card #4</th>\n",
       "      <th>Suit of card #5</th>\n",
       "      <th>Rank of card 5</th>\n",
       "    </tr>\n",
       "  </thead>\n",
       "  <tbody>\n",
       "    <tr>\n",
       "      <th>0</th>\n",
       "      <td>1</td>\n",
       "      <td>10</td>\n",
       "      <td>1</td>\n",
       "      <td>11</td>\n",
       "      <td>1</td>\n",
       "      <td>13</td>\n",
       "      <td>1</td>\n",
       "      <td>12</td>\n",
       "      <td>1</td>\n",
       "      <td>1</td>\n",
       "    </tr>\n",
       "    <tr>\n",
       "      <th>1</th>\n",
       "      <td>2</td>\n",
       "      <td>11</td>\n",
       "      <td>2</td>\n",
       "      <td>13</td>\n",
       "      <td>2</td>\n",
       "      <td>10</td>\n",
       "      <td>2</td>\n",
       "      <td>12</td>\n",
       "      <td>2</td>\n",
       "      <td>1</td>\n",
       "    </tr>\n",
       "    <tr>\n",
       "      <th>2</th>\n",
       "      <td>3</td>\n",
       "      <td>12</td>\n",
       "      <td>3</td>\n",
       "      <td>11</td>\n",
       "      <td>3</td>\n",
       "      <td>13</td>\n",
       "      <td>3</td>\n",
       "      <td>10</td>\n",
       "      <td>3</td>\n",
       "      <td>1</td>\n",
       "    </tr>\n",
       "    <tr>\n",
       "      <th>3</th>\n",
       "      <td>4</td>\n",
       "      <td>10</td>\n",
       "      <td>4</td>\n",
       "      <td>11</td>\n",
       "      <td>4</td>\n",
       "      <td>1</td>\n",
       "      <td>4</td>\n",
       "      <td>13</td>\n",
       "      <td>4</td>\n",
       "      <td>12</td>\n",
       "    </tr>\n",
       "    <tr>\n",
       "      <th>4</th>\n",
       "      <td>4</td>\n",
       "      <td>1</td>\n",
       "      <td>4</td>\n",
       "      <td>13</td>\n",
       "      <td>4</td>\n",
       "      <td>12</td>\n",
       "      <td>4</td>\n",
       "      <td>11</td>\n",
       "      <td>4</td>\n",
       "      <td>10</td>\n",
       "    </tr>\n",
       "  </tbody>\n",
       "</table>\n",
       "</div>"
      ],
      "text/plain": [
       "   Suit of card #1  Rank of card #1  Suit of card #2  Rank of card #2  \\\n",
       "0                1               10                1               11   \n",
       "1                2               11                2               13   \n",
       "2                3               12                3               11   \n",
       "3                4               10                4               11   \n",
       "4                4                1                4               13   \n",
       "\n",
       "   Suit of card #3  Rank of card #3  Suit of card #4  Rank of card #4  \\\n",
       "0                1               13                1               12   \n",
       "1                2               10                2               12   \n",
       "2                3               13                3               10   \n",
       "3                4                1                4               13   \n",
       "4                4               12                4               11   \n",
       "\n",
       "   Suit of card #5  Rank of card 5  \n",
       "0                1               1  \n",
       "1                2               1  \n",
       "2                3               1  \n",
       "3                4              12  \n",
       "4                4              10  "
      ]
     },
     "execution_count": 6,
     "metadata": {},
     "output_type": "execute_result"
    }
   ],
   "source": [
    "#Viewing the first few rows of the data in the training data.\n",
    "\n",
    "x_train.head()"
   ]
  },
  {
   "cell_type": "markdown",
   "metadata": {},
   "source": [
    "### Building models for the Poker Hand prediction\n",
    "\n",
    "### 1. NEURAL NETWORK MODEL:\n",
    "\n",
    "To create NN we used Keras library which is a high-level API wrapper for the low-level API, capable of running on top of TensorFlow, CNTK, or Theano.\n",
    "The neural network architecture we used here is comprised of 3 dense layers with respectively 15,10 and 10 nodes in each layer."
   ]
  },
  {
   "cell_type": "code",
   "execution_count": 7,
   "metadata": {
    "colab": {
     "base_uri": "https://localhost:8080/",
     "height": 421
    },
    "colab_type": "code",
    "id": "h_5RTYZtyI3r",
    "outputId": "a77dab35-4620-4f84-937d-1e6ad7f16fab"
   },
   "outputs": [
    {
     "name": "stderr",
     "output_type": "stream",
     "text": [
      "Using TensorFlow backend.\n"
     ]
    },
    {
     "name": "stdout",
     "output_type": "stream",
     "text": [
      "Train on 25010 samples, validate on 1000000 samples\n",
      "Epoch 1/10\n",
      "25010/25010 [==============================] - 6s 242us/step - loss: 0.2417 - accuracy: 0.8961 - val_loss: 0.3704 - val_accuracy: 0.8768\n",
      "Epoch 2/10\n",
      "25010/25010 [==============================] - 5s 212us/step - loss: 0.1802 - accuracy: 0.8984 - val_loss: 0.4269 - val_accuracy: 0.8897\n",
      "Epoch 3/10\n",
      "25010/25010 [==============================] - 5s 218us/step - loss: 0.1755 - accuracy: 0.9005 - val_loss: 0.4683 - val_accuracy: 0.8896\n",
      "Epoch 4/10\n",
      "25010/25010 [==============================] - 5s 215us/step - loss: 0.1742 - accuracy: 0.9019 - val_loss: 0.4859 - val_accuracy: 0.8911\n",
      "Epoch 5/10\n",
      "25010/25010 [==============================] - 5s 219us/step - loss: 0.1734 - accuracy: 0.9030 - val_loss: 0.5068 - val_accuracy: 0.8900\n",
      "Epoch 6/10\n",
      "25010/25010 [==============================] - 5s 212us/step - loss: 0.1730 - accuracy: 0.9033 - val_loss: 0.5190 - val_accuracy: 0.8876\n",
      "Epoch 7/10\n",
      "25010/25010 [==============================] - 5s 216us/step - loss: 0.1726 - accuracy: 0.9041 - val_loss: 0.5368 - val_accuracy: 0.8888\n",
      "Epoch 8/10\n",
      "25010/25010 [==============================] - 5s 210us/step - loss: 0.1723 - accuracy: 0.9049 - val_loss: 0.5466 - val_accuracy: 0.8885\n",
      "Epoch 9/10\n",
      "25010/25010 [==============================] - 5s 213us/step - loss: 0.1721 - accuracy: 0.9047 - val_loss: 0.5505 - val_accuracy: 0.8860\n",
      "Epoch 10/10\n",
      "25010/25010 [==============================] - 5s 217us/step - loss: 0.1719 - accuracy: 0.9054 - val_loss: 0.5533 - val_accuracy: 0.8881\n",
      "1000000/1000000 [==============================] - 5s 5us/step\n"
     ]
    }
   ],
   "source": [
    "#importing the required libraries to build Neural Network model\n",
    "import keras\n",
    "from keras.models import Sequential\n",
    "from keras.layers import Dense, Dropout, Activation\n",
    "from keras.optimizers import SGD\n",
    "from keras import regularizers\n",
    "\n",
    "#Building the Neural Network model\n",
    "model = Sequential()\n",
    "model.add(Dense(15, activation='relu', input_dim=10))      #adding a dense layer with 15 nodes\n",
    "model.add(Dense(10, activation='relu'))                    #adding 2nd dense layer with 10 nodes\n",
    "model.add(Dense(10, activation='softmax'))                 #adding 3rd dense layer with 10 nodes\n",
    "model.compile(loss='binary_crossentropy',\n",
    "              optimizer='adam',\n",
    "              metrics=['accuracy'])\n",
    "\n",
    "#Fitting the data into the model\n",
    "history = model.fit(x_train, y_train, epochs = 10, batch_size = 256, verbose=1,validation_data=(x_test,y_test),shuffle=True)\n",
    "\n",
    "#Evaluating the model\n",
    "score = model.evaluate(x_test, y_test, batch_size=256)"
   ]
  },
  {
   "cell_type": "markdown",
   "metadata": {},
   "source": [
    "### Validation accuracy is coming out to be 88.81% ."
   ]
  },
  {
   "cell_type": "code",
   "execution_count": 8,
   "metadata": {
    "colab": {
     "base_uri": "https://localhost:8080/",
     "height": 368
    },
    "colab_type": "code",
    "id": "gjWxLUHACHCP",
    "outputId": "e68ed3f6-cd65-4779-c464-848d8342f8ee"
   },
   "outputs": [
    {
     "data": {
      "text/plain": [
       "<matplotlib.legend.Legend at 0x2557eed35c8>"
      ]
     },
     "execution_count": 8,
     "metadata": {},
     "output_type": "execute_result"
    },
    {
     "data": {
      "image/png": "[encoded data removed]",
      "text/plain": [
       "<Figure size 1080x360 with 2 Axes>"
      ]
     },
     "metadata": {
      "needs_background": "light"
     },
     "output_type": "display_data"
    }
   ],
   "source": [
    "# Plotting the Neural Network Model's accuracy and the Model loss\n",
    "\n",
    "plt.figure(figsize=(15, 5))\n",
    "plt.subplot(1,2,1)\n",
    "plt.plot(history.history['accuracy'])\n",
    "plt.plot(history.history['val_accuracy'])\n",
    "plt.title('Model accuracy')\n",
    "plt.ylabel('Accuracy')\n",
    "plt.xlabel('Epoch')\n",
    "plt.legend(['Train', 'Test'], loc='upper left')\n",
    "plt.subplot(1,2,2)\n",
    "plt.plot(history.history['loss'])\n",
    "plt.plot(history.history['val_loss'])\n",
    "plt.title('Model loss')\n",
    "plt.ylabel('Loss')\n",
    "plt.xlabel('Epoch')\n",
    "plt.legend(['Train', 'Test'], loc='lower left')"
   ]
  },
  {
   "cell_type": "code",
   "execution_count": 9,
   "metadata": {
    "colab": {},
    "colab_type": "code",
    "id": "eP3TcmAtzlbc"
   },
   "outputs": [],
   "source": [
    "#We need to reformat the data to be used in the models we are going to build moving forward\n",
    "from sklearn import preprocessing\n",
    "le = preprocessing.LabelEncoder()\n",
    "y_train=le.fit_transform(data_train['Poker Hand'])\n",
    "y_test=le.fit_transform(data_test['Poker Hand'])"
   ]
  },
  {
   "cell_type": "markdown",
   "metadata": {
    "colab": {},
    "colab_type": "code",
    "id": "UV2-pWCPEYI4"
   },
   "source": [
    "### 2. LOGISTIC REGRESSION MODEL\n",
    "\n",
    "We used the Sci-kit Learn Library to import all algorithms and employed the Logistic Regression method of model selection to use Logistic Regression Algorithm."
   ]
  },
  {
   "cell_type": "code",
   "execution_count": 10,
   "metadata": {
    "colab": {
     "base_uri": "https://localhost:8080/",
     "height": 35
    },
    "colab_type": "code",
    "id": "WZJvwoTpycji",
    "outputId": "6e32ebd6-cfa9-4e9f-cb04-c374e2a75c6e"
   },
   "outputs": [
    {
     "data": {
      "text/plain": [
       "0.422498"
      ]
     },
     "execution_count": 10,
     "metadata": {},
     "output_type": "execute_result"
    }
   ],
   "source": [
    "#importing the required libraries to build Logistic Regression model\n",
    "from sklearn.linear_model import LogisticRegression\n",
    "from sklearn.metrics import accuracy_score\n",
    "\n",
    "#building the Logistic Regressing model and fittin the data into the model\n",
    "clf = LogisticRegression(random_state=641, solver='lbfgs',max_iter=100,multi_class='ovr').fit(x_train, y_train)\n",
    "\n",
    "#using this model to predict the values of test data set\n",
    "y_pred=clf.predict(x_test)\n",
    "\n",
    "#evaluating the model\n",
    "accuracy_score(y_pred,y_test)"
   ]
  },
  {
   "cell_type": "markdown",
   "metadata": {},
   "source": [
    "### As you can see the validation accuracy is surprisingly low as compared to that of Neural Network.\n",
    "### Validation accuracy is 42.25%!!"
   ]
  },
  {
   "cell_type": "markdown",
   "metadata": {
    "colab": {},
    "colab_type": "code",
    "id": "bx87iJRzEjqO"
   },
   "source": [
    "### 3. CLASSIFICATION AND REGRESSION TREES for Machine Learning (CART)\n",
    "\n",
    "Classically, this algorithm is referred to as “decision trees”, but on some platforms like R they are referred to by the more modern term CART.\n",
    "The CART algorithm provides a foundation for important algorithms like bagged decision trees, random forest and boosted decision trees.\n",
    "\n",
    "We used the Sci-kit Learn Library to import all algorithms and employed the Decision Tree method of model selection to use Decision Tree Algorithm."
   ]
  },
  {
   "cell_type": "code",
   "execution_count": 11,
   "metadata": {
    "colab": {
     "base_uri": "https://localhost:8080/",
     "height": 35
    },
    "colab_type": "code",
    "id": "74K0Oikl3TZH",
    "outputId": "cc5912ba-645b-45ab-e0bf-26a0e8c27c7a"
   },
   "outputs": [
    {
     "data": {
      "text/plain": [
       "0.422498"
      ]
     },
     "execution_count": 11,
     "metadata": {},
     "output_type": "execute_result"
    }
   ],
   "source": [
    "#importing the required libraries to build Decision Tree model\n",
    "from sklearn.tree import DecisionTreeClassifier\n",
    "\n",
    "#building the Decision Tree model\n",
    "decision_tree = DecisionTreeClassifier(random_state=0,max_depth = 2)\n",
    "\n",
    "#fitting the data into the model\n",
    "decision_tree = decision_tree.fit(x_train,y_train)\n",
    "\n",
    "#using this model to predict the values of test data set\n",
    "y_pred = decision_tree.predict(x_test)\n",
    "\n",
    "#evaluating the model\n",
    "accuracy_score(y_pred,y_test)"
   ]
  },
  {
   "cell_type": "markdown",
   "metadata": {},
   "source": [
    "### Again the validation accuracy is surprisingly low and is very similar to that of Logistic Regression.\n",
    "### Validation accuracy is 42.25%!!"
   ]
  },
  {
   "cell_type": "markdown",
   "metadata": {},
   "source": [
    "### 4. SUPPORT VECTOR MACHINE (SVM) MODEL"
   ]
  },
  {
   "cell_type": "code",
   "execution_count": 18,
   "metadata": {
    "colab": {
     "base_uri": "https://localhost:8080/",
     "height": 35
    },
    "colab_type": "code",
    "id": "g-2nadXi5v-e",
    "outputId": "9f97b691-2f7e-4038-a1f4-8f9a3c737507"
   },
   "outputs": [
    {
     "data": {
      "text/plain": [
       "0.422498"
      ]
     },
     "execution_count": 18,
     "metadata": {},
     "output_type": "execute_result"
    }
   ],
   "source": [
    "#importing the required libraries to build Support Vector Machine model\n",
    "from sklearn import svm\n",
    "\n",
    "#building the Support Vector Machine Model\n",
    "clf = svm.LinearSVC(random_state=23)\n",
    "\n",
    "#fitting the data into the model\n",
    "clf.fit(x_train,y_train)\n",
    "\n",
    "#using this model to predict the values of test data set\n",
    "y_pred = clf.predict(x_test)\n",
    "\n",
    "#evaluating the model\n",
    "accuracy_score(y_pred,y_test)"
   ]
  },
  {
   "cell_type": "markdown",
   "metadata": {
    "colab": {
     "base_uri": "https://localhost:8080/",
     "height": 35
    },
    "colab_type": "code",
    "id": "oZBA0fiu71jz",
    "outputId": "134870a2-ff06-46d6-c82f-82d4a92bd581"
   },
   "source": [
    "### The validation accuracy achieved here is 42.25% which is also really low."
   ]
  },
  {
   "cell_type": "markdown",
   "metadata": {
    "colab": {},
    "colab_type": "code",
    "id": "cHX0Wxlv74M2"
   },
   "source": [
    "##### Through this we tried to build different classification models to predict the possible Poker Hands. The best model we have built and worked best for us is the NEURAL NETWORK MODEL."
   ]
  }
 ],
 "metadata": {
  "colab": {
   "collapsed_sections": [],
   "name": "HOME_ASSIGN.ipynb",
   "provenance": []
  },
  "kernelspec": {
   "display_name": "Python 3",
   "language": "python",
   "name": "python3"
  },
  "language_info": {
   "codemirror_mode": {
    "name": "ipython",
    "version": 3
   },
   "file_extension": ".py",
   "mimetype": "text/x-python",
   "name": "python",
   "nbconvert_exporter": "python",
   "pygments_lexer": "ipython3",
   "version": "3.7.1"
  }
 },
 "nbformat": 4,
 "nbformat_minor": 4
}
